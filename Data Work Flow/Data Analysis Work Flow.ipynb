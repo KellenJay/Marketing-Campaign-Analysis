{
 "cells": [
  {
   "cell_type": "markdown",
   "id": "00357e27-b725-456b-8d1c-df2be36df532",
   "metadata": {},
   "source": [
    "# Data Analysis Work Flow"
   ]
  },
  {
   "cell_type": "markdown",
   "id": "5120702d-2fbb-479c-ac22-f8915ebcd2fd",
   "metadata": {},
   "source": [
    "# Step 1: Clean & Standardize Dataset\n",
    "\n",
    "**Rename Columns for Clarity:**\n",
    "\n",
    "1. **Spend, GBP →** Ad Spend\n",
    "2. **Total conversion value, GBP →** Revenue\n",
    "3. **CTR, % →** CTR (Formatted cells from percentage to number with 2 decimal places)\n",
    "4. **City/ Location →** City\n",
    "5. **Likes (Reactions) →** Likes\n",
    "6. **Impressions →** Simply formatted cells from general to number with no decimal places\n"
   ]
  },
  {
   "cell_type": "markdown",
   "id": "4d2587ff-6e22-4a3e-8f04-e2d82b9c8b68",
   "metadata": {},
   "source": [
    "# Step 2: Add KPI Calculations\n",
    "\n",
    "**Calculate the metrics to match final Tableau dashboard:**\n",
    "1. **Profit:** = Revenue – Ad Spend; (copied and pasted as values to new cell, then formatted to 2 decimal places and displayed as a number).\n",
    "2. **ROAS:** =IF(Ad Spend=0, 0, Revenue / Ad SPend); (copied and pasted as values to new cell, then formatted to 2 decimal places).\n",
    "3. **ROI:** =IF(Ad Spend=0, 0, ((Revenue – Ad Spend) / Ad Spend) * 100); (copied and pasted as values to new cell, then formatted to display as number with 1 decimal place).\n",
    "4. **Conversion Rate:** =IF(Clicks=0, 0, (Conversions / Clicks) * 100); (copied and pasted as values to new cell, then formatted to display as number with 1 decimal place).\n",
    "5. **Revenue Per Conversion (RPCon):** =IFERROR(Revenue / Conversions, 0); (copied and pasted as values to new cell, then formatted to display as number with 2 decimal place).\n",
    "6. **Engagement Rate:** = (Likes + Shares + Comments) / Impressions * 100; (copied and pasted as values to new cell, then formatted to display as number with 1 decimal place).\n",
    "7. **Revenue Per Click (RPC):** =IF(Clicks=0, 0, Revenue / Clicks); (copied and pasted as values to new cell, then formatted to display as number with 2 decimal place).\n",
    "8. **Cost Per Impression (CPM):** =IFERROR((Ad Spend / Impressions) * 1000, 0)); (copied and pasted as values to new cell, then formatted to display as number with 2 decimal place).\n"
   ]
  },
  {
   "cell_type": "markdown",
   "id": "14032e7b-2c7c-4e52-9d83-c6d0a2686d28",
   "metadata": {},
   "source": [
    "# Step 3: Exploratory Data Analysis in Excel \n",
    "Before building the visualizations in Tableau, I used pivot tables and light data exploration in Excel to identify early trends and insights across the following focus areas:\n",
    "\n",
    "**1. Key Performance Metrics Overview:** Used monthly pivot summaries to observe Profit and ROI trends across time. This helped identify periods of peak performance (e.g. July–November) and areas where profit rose despite fluctuating ROI.\n",
    "\n",
    "**2. Cost vs Revenue Efficiency:** Created custom pivot tables to compare CPC, CPM, RPC, and RPCon values across months. This made it easier to detect the mid-year spike in RPC and late-year RPCon surge, supporting cost-efficiency analysis.\n",
    "\n",
    "**3. Engagement to Conversion Funnel Metrics:** Mapped Engagement Rate, CTR, and CVR in sequence to evaluate how user behavior influenced conversions. These findings were later used to shape the waterfall chart view in Tableau.\n",
    "\n",
    "**4. Regional Channel Performance Breakdown:** Built matrix-style pivot tables to compare key metrics (e.g. Revenue, Profit, ROI, Engagement) across London, Manchester, and Birmingham by channel. These insights guided the heatmap and map visualizations in the dashboard."
   ]
  },
  {
   "cell_type": "markdown",
   "id": "200c468d-3002-4033-a752-c7dbf3676457",
   "metadata": {},
   "source": [
    "# Step 4: Update Data Dictionary\n",
    "\n",
    "**Edited Column Names:**\n",
    "\n",
    "1. Ad Spend\n",
    "2. Revenue\n",
    "3. CTR\n",
    "4. City\n",
    "5. Likes\n",
    "\n",
    "**Added New Columns:**\n",
    "\n",
    "1. Profit\n",
    "2. ROAS\n",
    "3. ROI\n",
    "4. Conversion Rate\n",
    "5. Revenue Per Conversion (RPCon)\n",
    "6. Engagement Rate\n",
    "7. Revenue Per Click (RPC)\n"
   ]
  },
  {
   "cell_type": "markdown",
   "id": "9fd8c970-0778-4409-ae5e-b1157b39345b",
   "metadata": {},
   "source": [
    "# Step 5: Further Data Cleaning in Tableau\n",
    "\n",
    "**I had to format and standardized my columns again in Tableau:**\n",
    "\n",
    "1. **Profit:** Formatted to custom number with 2 decimal places and British pound (£) symbol as prefix.\n",
    "2. **ROAS:** Formatted to 1 decimal place with a (%) symbol as suffix.\n",
    "3. **ROI:** Formatted to 1 decimal place with a (%) symbol as suffix.\n",
    "4. **Conversion Rate:** Formatted to 1 decimal place with a (%) symbol as suffix.\n",
    "5. **Revenue:** Formatted to custom number with 2 decimal places and British pound (£) symbol as prefix.\n",
    "6. **Ad Spend:** Formatted to custom number with 2 decimal places and British pound (£) symbol as prefix.\n",
    "7. **RPCon:** Formatted to custom number with 2 decimal places and British pound (£) symbol as prefix.\n",
    "8. **Engagement Rate:** Formatted to 1 decimal place with a (%) symbol as suffix.\n",
    "9. **RPC:** Formatted to custom number with 2 decimal places and British pound (£) symbol as prefix.\n",
    "10. **CPC:** Formatted to custom number with 2 decimal places and British pound (£) symbol as prefix.\n",
    "11. **CPM:** Formatted to custom number with 2 decimal places and British pound (£) symbol as prefix.\n"
   ]
  },
  {
   "cell_type": "markdown",
   "id": "216e825b-a237-46b4-ad1d-cb7e0313a063",
   "metadata": {},
   "source": [
    "# Step 6: Created Calculated Fields/ Parameters in Tableau\n",
    "\n",
    "1.\t**Metrics/ KPIs:** I experienced blockers while trying to create my dashboard. Although the dataset was cleaned in excel, when transferred to Tableau there were issues with the columns. To troubleshoot I created new calculated fields because these columns were returning nulls and errors: CPC, CPM, RPC, RPCon, ROI, Conversion Rate, CTR, ROAS, Engagement Rate. I renamed columns by adding “Old” before the name (eg: Name changed from CPC to Old CPC)\n",
    "2.\t**Spark Lines:** Created calculated fields for sparklines to reflect max and min values. These points are viewed using dual-axis so that they aligned with line chart\n",
    "3.\t**Parameters:** Created a parameter for my stacked bar chart called “Pick a Parameter”.\n",
    "4.\t**Metric Selected:** Created calculated field for parameters chosen. I experiences problems with null values and so, to troubleshoot I added the “ELSE 0” function.\n",
    "5.\t**Metric Selected 2 Decimals:** The amounts for my metric selected in my stacked bar chart tooltip were not displaying the values with 2 decimal places. To troubleshoot, I created a new calculated field using this function: \"£\" + STR(ROUND([Metric Selected], 2)).\n"
   ]
  }
 ],
 "metadata": {
  "kernelspec": {
   "display_name": "Python [conda env:base] *",
   "language": "python",
   "name": "conda-base-py"
  },
  "language_info": {
   "codemirror_mode": {
    "name": "ipython",
    "version": 3
   },
   "file_extension": ".py",
   "mimetype": "text/x-python",
   "name": "python",
   "nbconvert_exporter": "python",
   "pygments_lexer": "ipython3",
   "version": "3.12.7"
  }
 },
 "nbformat": 4,
 "nbformat_minor": 5
}
